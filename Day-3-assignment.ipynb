{
 "cells": [
  {
   "cell_type": "markdown",
   "metadata": {},
   "source": [
    "# Questions 1:\n",
    "Create a numpy array starting from 2 till 50 with a stepsize of 3."
   ]
  },
  {
   "cell_type": "code",
   "execution_count": 5,
   "metadata": {},
   "outputs": [
    {
     "name": "stdout",
     "output_type": "stream",
     "text": [
      "[ 2  5  8 11 14 17 20 23 26 29 32 35 38 41 44 47]\n"
     ]
    }
   ],
   "source": [
    "import numpy as np\n",
    "\n",
    "arr=np.array(np.arange(2,50,3))\n",
    "print(arr)"
   ]
  },
  {
   "cell_type": "markdown",
   "metadata": {},
   "source": [
    "# Questions 2:\n",
    "Accept two lists of 5 elements each from the user.\n",
    "Convert them to numpy arrays. Concatenate these arrays and print it. Also sort these arrays and print it. "
   ]
  },
  {
   "cell_type": "code",
   "execution_count": 8,
   "metadata": {},
   "outputs": [
    {
     "name": "stdout",
     "output_type": "stream",
     "text": [
      "4 3 7 8 9\n",
      "1 23 45 21 6\n",
      "['4' '3' '7' '8' '9']\n",
      "['1' '23' '45' '21' '6']\n",
      "['4' '3' '7' '8' '9' '1' '23' '45' '21' '6']\n",
      "['1' '21' '23' '3' '4' '45' '6' '7' '8' '9']\n"
     ]
    }
   ],
   "source": [
    "import numpy as np\n",
    "arr1=np.array(list(input().split(\" \")))\n",
    "arr2=np.array(list(input().split(\" \")))\n",
    "\n",
    "print(arr1)\n",
    "print(arr2)\n",
    "arr = np.concatenate((arr1, arr2))\n",
    "print(arr)\n",
    "print(np.sort(arr))"
   ]
  },
  {
   "cell_type": "markdown",
   "metadata": {},
   "source": [
    "# Questions 3:\n",
    "Write a code snippet to find the dimensions of a ndarray and its size."
   ]
  },
  {
   "cell_type": "code",
   "execution_count": 18,
   "metadata": {},
   "outputs": [
    {
     "name": "stdout",
     "output_type": "stream",
     "text": [
      "[[ 0  1  2  3  4]\n",
      " [ 5  6  7  8  9]\n",
      " [10 11 12 13 14]\n",
      " [15 16 17 18 19]\n",
      " [20 21 22 23 24]\n",
      " [25 26 27 28 29]]\n",
      "\n",
      "(6, 5)\n",
      "30\n"
     ]
    }
   ],
   "source": [
    "import numpy as np\n",
    "\n",
    "arr = np.arange(30).reshape(6,5)\n",
    "print(arr)\n",
    "print()\n",
    "print(arr.shape)\n",
    "print(arr.size)\n"
   ]
  },
  {
   "cell_type": "markdown",
   "metadata": {},
   "source": [
    "# Questions 4:\n",
    "How to convert a 1D array into a 2D array? Demonstrate with the help of a code snippet\n",
    "Hint: np.newaxis, np.expand_dims"
   ]
  },
  {
   "cell_type": "code",
   "execution_count": 19,
   "metadata": {},
   "outputs": [
    {
     "name": "stdout",
     "output_type": "stream",
     "text": [
      "[ 0  1  2  3  4  5  6  7  8  9 10 11]\n",
      "\n",
      "[[ 0  1  2  3]\n",
      " [ 4  5  6  7]\n",
      " [ 8  9 10 11]]\n"
     ]
    }
   ],
   "source": [
    "import numpy as np\n",
    "\n",
    "a_1d = np.arange(12)\n",
    "a_2d=a_1d.reshape(3,4)\n",
    "print(a_1d)\n",
    "print()\n",
    "print(a_2d)"
   ]
  },
  {
   "cell_type": "markdown",
   "metadata": {},
   "source": [
    "# Questions 5:\n",
    "Consider two square numpy arrays. Stack them vertically and horizontally.\n",
    "Hint: Use vstack(), hstack()"
   ]
  },
  {
   "cell_type": "code",
   "execution_count": 23,
   "metadata": {},
   "outputs": [
    {
     "name": "stdout",
     "output_type": "stream",
     "text": [
      "[[ 0  1  2  3]\n",
      " [ 4  5  6  7]\n",
      " [ 8  9 10 11]\n",
      " [12 13 14 15]]\n",
      "\n",
      "[[20 21 22 23]\n",
      " [24 25 26 27]\n",
      " [28 29 30 31]\n",
      " [32 33 34 35]]\n",
      "\n",
      "[[ 0  1  2  3 20 21 22 23]\n",
      " [ 4  5  6  7 24 25 26 27]\n",
      " [ 8  9 10 11 28 29 30 31]\n",
      " [12 13 14 15 32 33 34 35]]\n",
      "\n",
      "[[ 0  1  2  3]\n",
      " [ 4  5  6  7]\n",
      " [ 8  9 10 11]\n",
      " [12 13 14 15]\n",
      " [20 21 22 23]\n",
      " [24 25 26 27]\n",
      " [28 29 30 31]\n",
      " [32 33 34 35]]\n"
     ]
    }
   ],
   "source": [
    "import numpy as np\n",
    "arr1=np.arange(16).reshape(4,4)\n",
    "arr2=np.arange(20,36).reshape(4,4)\n",
    "print(arr1)\n",
    "print()\n",
    "print(arr2)\n",
    "print()\n",
    "print(np.hstack((arr1,arr2)))\n",
    "print()\n",
    "print(np.vstack((arr1,arr2)))"
   ]
  },
  {
   "cell_type": "markdown",
   "metadata": {},
   "source": [
    "# Questions 6:\n",
    "How to get unique items and counts of unique items?"
   ]
  },
  {
   "cell_type": "code",
   "execution_count": 27,
   "metadata": {},
   "outputs": [
    {
     "name": "stdout",
     "output_type": "stream",
     "text": [
      "[1 2 3 4]\n",
      "[2 1 1 2]\n"
     ]
    }
   ],
   "source": [
    "a= np.array([[1, 1], [2, 3],[4,4]])\n",
    "unique, counts = np.unique(a, return_counts=True)\n",
    "print(unique)\n",
    "print(counts)\n",
    "\n"
   ]
  }
 ],
 "metadata": {
  "kernelspec": {
   "display_name": "Python 3",
   "language": "python",
   "name": "python3"
  },
  "language_info": {
   "codemirror_mode": {
    "name": "ipython",
    "version": 3
   },
   "file_extension": ".py",
   "mimetype": "text/x-python",
   "name": "python",
   "nbconvert_exporter": "python",
   "pygments_lexer": "ipython3",
   "version": "3.7.6"
  }
 },
 "nbformat": 4,
 "nbformat_minor": 4
}
